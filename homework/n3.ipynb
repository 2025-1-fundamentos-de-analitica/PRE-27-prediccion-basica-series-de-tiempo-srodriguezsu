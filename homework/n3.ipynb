{
 "cells": [
  {
   "cell_type": "code",
   "execution_count": 1,
   "id": "8015c218",
   "metadata": {
    "ExecuteTime": {
     "end_time": "2025-07-09T14:50:34.281365100Z",
     "start_time": "2025-07-09T14:50:32.507615200Z"
    }
   },
   "outputs": [
    {
     "data": {
      "text/plain": "            yt_true\ndate               \n1946-01-01      890\n1946-02-01      992\n1946-03-01      979\n1946-04-01      959\n1946-05-01     1110",
      "text/html": "<div>\n<style scoped>\n    .dataframe tbody tr th:only-of-type {\n        vertical-align: middle;\n    }\n\n    .dataframe tbody tr th {\n        vertical-align: top;\n    }\n\n    .dataframe thead th {\n        text-align: right;\n    }\n</style>\n<table border=\"1\" class=\"dataframe\">\n  <thead>\n    <tr style=\"text-align: right;\">\n      <th></th>\n      <th>yt_true</th>\n    </tr>\n    <tr>\n      <th>date</th>\n      <th></th>\n    </tr>\n  </thead>\n  <tbody>\n    <tr>\n      <th>1946-01-01</th>\n      <td>890</td>\n    </tr>\n    <tr>\n      <th>1946-02-01</th>\n      <td>992</td>\n    </tr>\n    <tr>\n      <th>1946-03-01</th>\n      <td>979</td>\n    </tr>\n    <tr>\n      <th>1946-04-01</th>\n      <td>959</td>\n    </tr>\n    <tr>\n      <th>1946-05-01</th>\n      <td>1110</td>\n    </tr>\n  </tbody>\n</table>\n</div>"
     },
     "execution_count": 1,
     "metadata": {},
     "output_type": "execute_result"
    }
   ],
   "source": [
    "# =============================================================================\n",
    "#\n",
    "# Pronositco usando un MLP con la serie sin diferenciar y sin escalar\n",
    "#\n",
    "# =============================================================================\n",
    "import warnings\n",
    "\n",
    "warnings.filterwarnings(\"ignore\")\n",
    "\n",
    "#\n",
    "# Carga de datos\n",
    "#\n",
    "import nbimporter  #  type: ignore\n",
    "import functions  #  type: ignore\n",
    "\n",
    "\n",
    "df_orig = functions.load_data()\n",
    "df_orig.head()\n",
    "\n",
    "\n",
    "\n"
   ]
  },
  {
   "cell_type": "code",
   "execution_count": 2,
   "id": "aa0cd7d3",
   "metadata": {
    "ExecuteTime": {
     "end_time": "2025-07-09T14:50:34.300072100Z",
     "start_time": "2025-07-09T14:50:34.276367300Z"
    }
   },
   "outputs": [
    {
     "data": {
      "text/plain": "            yt_true  lagged_1m  lagged_2m  lagged_3m  lagged_4m  lagged_5m  \\\ndate                                                                         \n1946-01-01      890        NaN        NaN        NaN        NaN        NaN   \n1946-02-01      992      890.0        NaN        NaN        NaN        NaN   \n1946-03-01      979      992.0      890.0        NaN        NaN        NaN   \n1946-04-01      959      979.0      992.0      890.0        NaN        NaN   \n1946-05-01     1110      959.0      979.0      992.0      890.0        NaN   \n\n            lagged_6m  lagged_7m  lagged_8m  lagged_9m  lagged_10m  \\\ndate                                                                 \n1946-01-01        NaN        NaN        NaN        NaN         NaN   \n1946-02-01        NaN        NaN        NaN        NaN         NaN   \n1946-03-01        NaN        NaN        NaN        NaN         NaN   \n1946-04-01        NaN        NaN        NaN        NaN         NaN   \n1946-05-01        NaN        NaN        NaN        NaN         NaN   \n\n            lagged_11m  lagged_12m  lagged_13m  \ndate                                            \n1946-01-01         NaN         NaN         NaN  \n1946-02-01         NaN         NaN         NaN  \n1946-03-01         NaN         NaN         NaN  \n1946-04-01         NaN         NaN         NaN  \n1946-05-01         NaN         NaN         NaN  ",
      "text/html": "<div>\n<style scoped>\n    .dataframe tbody tr th:only-of-type {\n        vertical-align: middle;\n    }\n\n    .dataframe tbody tr th {\n        vertical-align: top;\n    }\n\n    .dataframe thead th {\n        text-align: right;\n    }\n</style>\n<table border=\"1\" class=\"dataframe\">\n  <thead>\n    <tr style=\"text-align: right;\">\n      <th></th>\n      <th>yt_true</th>\n      <th>lagged_1m</th>\n      <th>lagged_2m</th>\n      <th>lagged_3m</th>\n      <th>lagged_4m</th>\n      <th>lagged_5m</th>\n      <th>lagged_6m</th>\n      <th>lagged_7m</th>\n      <th>lagged_8m</th>\n      <th>lagged_9m</th>\n      <th>lagged_10m</th>\n      <th>lagged_11m</th>\n      <th>lagged_12m</th>\n      <th>lagged_13m</th>\n    </tr>\n    <tr>\n      <th>date</th>\n      <th></th>\n      <th></th>\n      <th></th>\n      <th></th>\n      <th></th>\n      <th></th>\n      <th></th>\n      <th></th>\n      <th></th>\n      <th></th>\n      <th></th>\n      <th></th>\n      <th></th>\n      <th></th>\n    </tr>\n  </thead>\n  <tbody>\n    <tr>\n      <th>1946-01-01</th>\n      <td>890</td>\n      <td>NaN</td>\n      <td>NaN</td>\n      <td>NaN</td>\n      <td>NaN</td>\n      <td>NaN</td>\n      <td>NaN</td>\n      <td>NaN</td>\n      <td>NaN</td>\n      <td>NaN</td>\n      <td>NaN</td>\n      <td>NaN</td>\n      <td>NaN</td>\n      <td>NaN</td>\n    </tr>\n    <tr>\n      <th>1946-02-01</th>\n      <td>992</td>\n      <td>890.0</td>\n      <td>NaN</td>\n      <td>NaN</td>\n      <td>NaN</td>\n      <td>NaN</td>\n      <td>NaN</td>\n      <td>NaN</td>\n      <td>NaN</td>\n      <td>NaN</td>\n      <td>NaN</td>\n      <td>NaN</td>\n      <td>NaN</td>\n      <td>NaN</td>\n    </tr>\n    <tr>\n      <th>1946-03-01</th>\n      <td>979</td>\n      <td>992.0</td>\n      <td>890.0</td>\n      <td>NaN</td>\n      <td>NaN</td>\n      <td>NaN</td>\n      <td>NaN</td>\n      <td>NaN</td>\n      <td>NaN</td>\n      <td>NaN</td>\n      <td>NaN</td>\n      <td>NaN</td>\n      <td>NaN</td>\n      <td>NaN</td>\n    </tr>\n    <tr>\n      <th>1946-04-01</th>\n      <td>959</td>\n      <td>979.0</td>\n      <td>992.0</td>\n      <td>890.0</td>\n      <td>NaN</td>\n      <td>NaN</td>\n      <td>NaN</td>\n      <td>NaN</td>\n      <td>NaN</td>\n      <td>NaN</td>\n      <td>NaN</td>\n      <td>NaN</td>\n      <td>NaN</td>\n      <td>NaN</td>\n    </tr>\n    <tr>\n      <th>1946-05-01</th>\n      <td>1110</td>\n      <td>959.0</td>\n      <td>979.0</td>\n      <td>992.0</td>\n      <td>890.0</td>\n      <td>NaN</td>\n      <td>NaN</td>\n      <td>NaN</td>\n      <td>NaN</td>\n      <td>NaN</td>\n      <td>NaN</td>\n      <td>NaN</td>\n      <td>NaN</td>\n      <td>NaN</td>\n    </tr>\n  </tbody>\n</table>\n</div>"
     },
     "execution_count": 2,
     "metadata": {},
     "output_type": "execute_result"
    }
   ],
   "source": [
    "\n",
    "\n",
    "#\n",
    "# Construcción de la matriz de regresores\n",
    "#\n",
    "\n",
    "df_orig = functions.make_lagged_ts(\n",
    "    df=df_orig,\n",
    "    p_max=13,\n",
    "    y_column=\"yt_true\",\n",
    "    fmt=\"lagged_{}m\",\n",
    ")\n",
    "df_orig.head()\n",
    "\n"
   ]
  },
  {
   "cell_type": "code",
   "execution_count": 3,
   "id": "a561dc72",
   "metadata": {
    "ExecuteTime": {
     "end_time": "2025-07-09T14:50:34.301075300Z",
     "start_time": "2025-07-09T14:50:34.292386600Z"
    }
   },
   "outputs": [],
   "source": [
    "\n",
    "\n",
    "#\n",
    "# Remoción de los valores faltantes\n",
    "#\n",
    "df_dropna = df_orig.dropna()\n",
    "\n",
    "\n"
   ]
  },
  {
   "cell_type": "code",
   "execution_count": 4,
   "id": "5ba4dba8",
   "metadata": {
    "ExecuteTime": {
     "end_time": "2025-07-09T14:50:34.336274400Z",
     "start_time": "2025-07-09T14:50:34.300072100Z"
    }
   },
   "outputs": [],
   "source": [
    "\n",
    "\n",
    "#\n",
    "# División de los datos en entrenamiento y prueba\n",
    "#\n",
    "(\n",
    "    X_complete,\n",
    "    y_complete,\n",
    "    X_train,\n",
    "    y_train,\n",
    "    X_test,\n",
    "    y_test,\n",
    ") = functions.train_test_split(\n",
    "    df=df_dropna,\n",
    "    x_columns=[f\"lagged_{i}m\" for i in range(1, 13)],\n",
    "    y_column=\"yt_true\",\n",
    ")\n",
    "\n"
   ]
  },
  {
   "cell_type": "code",
   "execution_count": 4,
   "id": "f980bdd6",
   "metadata": {
    "ExecuteTime": {
     "end_time": "2025-07-09T14:50:34.337275900Z",
     "start_time": "2025-07-09T14:50:34.308971300Z"
    }
   },
   "outputs": [],
   "source": []
  },
  {
   "cell_type": "code",
   "execution_count": 4,
   "id": "79536279",
   "metadata": {
    "ExecuteTime": {
     "end_time": "2025-07-09T14:50:34.382354300Z",
     "start_time": "2025-07-09T14:50:34.311486300Z"
    }
   },
   "outputs": [],
   "source": []
  },
  {
   "cell_type": "code",
   "execution_count": 4,
   "id": "34006fd5",
   "metadata": {
    "ExecuteTime": {
     "end_time": "2025-07-09T14:50:34.383863800Z",
     "start_time": "2025-07-09T14:50:34.315930700Z"
    }
   },
   "outputs": [],
   "source": []
  },
  {
   "cell_type": "code",
   "execution_count": 4,
   "id": "6c9f909c",
   "metadata": {
    "ExecuteTime": {
     "end_time": "2025-07-09T14:50:34.383863800Z",
     "start_time": "2025-07-09T14:50:34.319711700Z"
    }
   },
   "outputs": [],
   "source": []
  },
  {
   "cell_type": "code",
   "execution_count": 4,
   "id": "46fda48a",
   "metadata": {
    "ExecuteTime": {
     "end_time": "2025-07-09T14:50:34.413437500Z",
     "start_time": "2025-07-09T14:50:34.321718700Z"
    }
   },
   "outputs": [],
   "source": []
  }
 ],
 "metadata": {
  "kernelspec": {
   "display_name": ".venv",
   "language": "python",
   "name": "python3"
  },
  "language_info": {
   "codemirror_mode": {
    "name": "ipython",
    "version": 3
   },
   "file_extension": ".py",
   "mimetype": "text/x-python",
   "name": "python",
   "nbconvert_exporter": "python",
   "pygments_lexer": "ipython3",
   "version": "3.13.5"
  }
 },
 "nbformat": 4,
 "nbformat_minor": 5
}
